{
 "cells": [
  {
   "cell_type": "markdown",
   "metadata": {},
   "source": [
    "# CLUSTERING ON INDEKS PEMBANGUNAN MANUSIA\n",
    "## TAHUN 2004-2012"
   ]
  },
  {
   "cell_type": "markdown",
   "metadata": {},
   "source": [
    "### READ DATA"
   ]
  },
  {
   "cell_type": "code",
   "execution_count": 1,
   "metadata": {},
   "outputs": [
    {
     "name": "stdout",
     "output_type": "stream",
     "text": [
      "Shape of dataset :  (4473, 10)\n"
     ]
    },
    {
     "data": {
      "text/html": [
       "<div>\n",
       "<style scoped>\n",
       "    .dataframe tbody tr th:only-of-type {\n",
       "        vertical-align: middle;\n",
       "    }\n",
       "\n",
       "    .dataframe tbody tr th {\n",
       "        vertical-align: top;\n",
       "    }\n",
       "\n",
       "    .dataframe thead th {\n",
       "        text-align: right;\n",
       "    }\n",
       "</style>\n",
       "<table border=\"1\" class=\"dataframe\">\n",
       "  <thead>\n",
       "    <tr style=\"text-align: right;\">\n",
       "      <th></th>\n",
       "      <th>nama_provinsi</th>\n",
       "      <th>kode_kabkota</th>\n",
       "      <th>nama_kabkota</th>\n",
       "      <th>koordinat_kabkota</th>\n",
       "      <th>tahun</th>\n",
       "      <th>angka_harapan_hidup</th>\n",
       "      <th>angka_melek_huruf</th>\n",
       "      <th>lama_sekolah</th>\n",
       "      <th>pengeluaran_perkapita</th>\n",
       "      <th>ipm</th>\n",
       "    </tr>\n",
       "  </thead>\n",
       "  <tbody>\n",
       "    <tr>\n",
       "      <th>0</th>\n",
       "      <td>Prov. Nanggroe Aceh Darussalam</td>\n",
       "      <td>1101</td>\n",
       "      <td>Kab. Simeulue</td>\n",
       "      <td>2.62818,96.0898</td>\n",
       "      <td>2004</td>\n",
       "      <td>62.4</td>\n",
       "      <td>94.500000</td>\n",
       "      <td>6.100000</td>\n",
       "      <td>596.21</td>\n",
       "      <td>64.492050</td>\n",
       "    </tr>\n",
       "    <tr>\n",
       "      <th>1</th>\n",
       "      <td>Prov. Nanggroe Aceh Darussalam</td>\n",
       "      <td>1102</td>\n",
       "      <td>Kab. Aceh Singkil</td>\n",
       "      <td>2.439,97.9244</td>\n",
       "      <td>2004</td>\n",
       "      <td>63.0</td>\n",
       "      <td>96.222065</td>\n",
       "      <td>7.672969</td>\n",
       "      <td>588.20</td>\n",
       "      <td>65.756200</td>\n",
       "    </tr>\n",
       "    <tr>\n",
       "      <th>2</th>\n",
       "      <td>Prov. Nanggroe Aceh Darussalam</td>\n",
       "      <td>1103</td>\n",
       "      <td>Kab. Aceh Selatan</td>\n",
       "      <td>3.25638,97.213</td>\n",
       "      <td>2004</td>\n",
       "      <td>65.5</td>\n",
       "      <td>95.662192</td>\n",
       "      <td>8.091445</td>\n",
       "      <td>582.46</td>\n",
       "      <td>66.888490</td>\n",
       "    </tr>\n",
       "    <tr>\n",
       "      <th>3</th>\n",
       "      <td>Prov. Nanggroe Aceh Darussalam</td>\n",
       "      <td>1104</td>\n",
       "      <td>Kab. Aceh Tenggara</td>\n",
       "      <td>3.59968,97.6619</td>\n",
       "      <td>2004</td>\n",
       "      <td>68.6</td>\n",
       "      <td>96.036751</td>\n",
       "      <td>9.342572</td>\n",
       "      <td>580.19</td>\n",
       "      <td>69.445846</td>\n",
       "    </tr>\n",
       "    <tr>\n",
       "      <th>4</th>\n",
       "      <td>Prov. Nanggroe Aceh Darussalam</td>\n",
       "      <td>1105</td>\n",
       "      <td>Kab. Aceh Timur</td>\n",
       "      <td>4.56983,97.7723</td>\n",
       "      <td>2004</td>\n",
       "      <td>68.5</td>\n",
       "      <td>96.700000</td>\n",
       "      <td>8.057778</td>\n",
       "      <td>568.91</td>\n",
       "      <td>67.717058</td>\n",
       "    </tr>\n",
       "  </tbody>\n",
       "</table>\n",
       "</div>"
      ],
      "text/plain": [
       "                    nama_provinsi  kode_kabkota        nama_kabkota  \\\n",
       "0  Prov. Nanggroe Aceh Darussalam          1101       Kab. Simeulue   \n",
       "1  Prov. Nanggroe Aceh Darussalam          1102   Kab. Aceh Singkil   \n",
       "2  Prov. Nanggroe Aceh Darussalam          1103   Kab. Aceh Selatan   \n",
       "3  Prov. Nanggroe Aceh Darussalam          1104  Kab. Aceh Tenggara   \n",
       "4  Prov. Nanggroe Aceh Darussalam          1105     Kab. Aceh Timur   \n",
       "\n",
       "  koordinat_kabkota  tahun  angka_harapan_hidup  angka_melek_huruf  \\\n",
       "0   2.62818,96.0898   2004                 62.4          94.500000   \n",
       "1     2.439,97.9244   2004                 63.0          96.222065   \n",
       "2    3.25638,97.213   2004                 65.5          95.662192   \n",
       "3   3.59968,97.6619   2004                 68.6          96.036751   \n",
       "4   4.56983,97.7723   2004                 68.5          96.700000   \n",
       "\n",
       "   lama_sekolah  pengeluaran_perkapita        ipm  \n",
       "0      6.100000                 596.21  64.492050  \n",
       "1      7.672969                 588.20  65.756200  \n",
       "2      8.091445                 582.46  66.888490  \n",
       "3      9.342572                 580.19  69.445846  \n",
       "4      8.057778                 568.91  67.717058  "
      ]
     },
     "execution_count": 1,
     "metadata": {},
     "output_type": "execute_result"
    }
   ],
   "source": [
    "#Import Library Pandas dan Numpy\n",
    "import pandas as pd\n",
    "import numpy as np\n",
    "\n",
    "#Membaca file CSV ke dalam datafarame Pandas\n",
    "dataset = pd.read_csv('./Downloads/ipm.csv')\n",
    "\n",
    "#Menampilkan Jumlah Record dan Feature pada dataset\n",
    "print(\"Shape of dataset : \", dataset.shape)\n",
    "\n",
    "# Menampilkan 5 data awal pada dataset\n",
    "dataset.head(5)\n"
   ]
  },
  {
   "cell_type": "markdown",
   "metadata": {},
   "source": [
    "### DATA CLEANING"
   ]
  },
  {
   "cell_type": "code",
   "execution_count": 2,
   "metadata": {},
   "outputs": [
    {
     "data": {
      "text/plain": [
       "nama_provinsi              0\n",
       "kode_kabkota               0\n",
       "nama_kabkota               0\n",
       "koordinat_kabkota          0\n",
       "tahun                      0\n",
       "angka_harapan_hidup      209\n",
       "angka_melek_huruf        209\n",
       "lama_sekolah             209\n",
       "pengeluaran_perkapita    209\n",
       "ipm                      209\n",
       "dtype: int64"
      ]
     },
     "execution_count": 2,
     "metadata": {},
     "output_type": "execute_result"
    }
   ],
   "source": [
    "# Cek Missing Value\n",
    "missing = dataset.isnull().sum()\n",
    "missing"
   ]
  },
  {
   "cell_type": "code",
   "execution_count": 3,
   "metadata": {},
   "outputs": [
    {
     "name": "stdout",
     "output_type": "stream",
     "text": [
      "Shape of dataset before cleaning:  (4473, 10)\n",
      "Shape of dataset after cleaning:  (4264, 10)\n"
     ]
    },
    {
     "data": {
      "text/html": [
       "<div>\n",
       "<style scoped>\n",
       "    .dataframe tbody tr th:only-of-type {\n",
       "        vertical-align: middle;\n",
       "    }\n",
       "\n",
       "    .dataframe tbody tr th {\n",
       "        vertical-align: top;\n",
       "    }\n",
       "\n",
       "    .dataframe thead th {\n",
       "        text-align: right;\n",
       "    }\n",
       "</style>\n",
       "<table border=\"1\" class=\"dataframe\">\n",
       "  <thead>\n",
       "    <tr style=\"text-align: right;\">\n",
       "      <th></th>\n",
       "      <th>nama_provinsi</th>\n",
       "      <th>kode_kabkota</th>\n",
       "      <th>nama_kabkota</th>\n",
       "      <th>koordinat_kabkota</th>\n",
       "      <th>tahun</th>\n",
       "      <th>angka_harapan_hidup</th>\n",
       "      <th>angka_melek_huruf</th>\n",
       "      <th>lama_sekolah</th>\n",
       "      <th>pengeluaran_perkapita</th>\n",
       "      <th>ipm</th>\n",
       "    </tr>\n",
       "  </thead>\n",
       "  <tbody>\n",
       "    <tr>\n",
       "      <th>0</th>\n",
       "      <td>Prov. Nanggroe Aceh Darussalam</td>\n",
       "      <td>1101</td>\n",
       "      <td>Kab. Simeulue</td>\n",
       "      <td>2.62818,96.0898</td>\n",
       "      <td>2004</td>\n",
       "      <td>62.4</td>\n",
       "      <td>94.500000</td>\n",
       "      <td>6.100000</td>\n",
       "      <td>596.21</td>\n",
       "      <td>64.492050</td>\n",
       "    </tr>\n",
       "    <tr>\n",
       "      <th>1</th>\n",
       "      <td>Prov. Nanggroe Aceh Darussalam</td>\n",
       "      <td>1102</td>\n",
       "      <td>Kab. Aceh Singkil</td>\n",
       "      <td>2.439,97.9244</td>\n",
       "      <td>2004</td>\n",
       "      <td>63.0</td>\n",
       "      <td>96.222065</td>\n",
       "      <td>7.672969</td>\n",
       "      <td>588.20</td>\n",
       "      <td>65.756200</td>\n",
       "    </tr>\n",
       "    <tr>\n",
       "      <th>2</th>\n",
       "      <td>Prov. Nanggroe Aceh Darussalam</td>\n",
       "      <td>1103</td>\n",
       "      <td>Kab. Aceh Selatan</td>\n",
       "      <td>3.25638,97.213</td>\n",
       "      <td>2004</td>\n",
       "      <td>65.5</td>\n",
       "      <td>95.662192</td>\n",
       "      <td>8.091445</td>\n",
       "      <td>582.46</td>\n",
       "      <td>66.888490</td>\n",
       "    </tr>\n",
       "    <tr>\n",
       "      <th>3</th>\n",
       "      <td>Prov. Nanggroe Aceh Darussalam</td>\n",
       "      <td>1104</td>\n",
       "      <td>Kab. Aceh Tenggara</td>\n",
       "      <td>3.59968,97.6619</td>\n",
       "      <td>2004</td>\n",
       "      <td>68.6</td>\n",
       "      <td>96.036751</td>\n",
       "      <td>9.342572</td>\n",
       "      <td>580.19</td>\n",
       "      <td>69.445846</td>\n",
       "    </tr>\n",
       "    <tr>\n",
       "      <th>4</th>\n",
       "      <td>Prov. Nanggroe Aceh Darussalam</td>\n",
       "      <td>1105</td>\n",
       "      <td>Kab. Aceh Timur</td>\n",
       "      <td>4.56983,97.7723</td>\n",
       "      <td>2004</td>\n",
       "      <td>68.5</td>\n",
       "      <td>96.700000</td>\n",
       "      <td>8.057778</td>\n",
       "      <td>568.91</td>\n",
       "      <td>67.717058</td>\n",
       "    </tr>\n",
       "  </tbody>\n",
       "</table>\n",
       "</div>"
      ],
      "text/plain": [
       "                    nama_provinsi  kode_kabkota        nama_kabkota  \\\n",
       "0  Prov. Nanggroe Aceh Darussalam          1101       Kab. Simeulue   \n",
       "1  Prov. Nanggroe Aceh Darussalam          1102   Kab. Aceh Singkil   \n",
       "2  Prov. Nanggroe Aceh Darussalam          1103   Kab. Aceh Selatan   \n",
       "3  Prov. Nanggroe Aceh Darussalam          1104  Kab. Aceh Tenggara   \n",
       "4  Prov. Nanggroe Aceh Darussalam          1105     Kab. Aceh Timur   \n",
       "\n",
       "  koordinat_kabkota  tahun  angka_harapan_hidup  angka_melek_huruf  \\\n",
       "0   2.62818,96.0898   2004                 62.4          94.500000   \n",
       "1     2.439,97.9244   2004                 63.0          96.222065   \n",
       "2    3.25638,97.213   2004                 65.5          95.662192   \n",
       "3   3.59968,97.6619   2004                 68.6          96.036751   \n",
       "4   4.56983,97.7723   2004                 68.5          96.700000   \n",
       "\n",
       "   lama_sekolah  pengeluaran_perkapita        ipm  \n",
       "0      6.100000                 596.21  64.492050  \n",
       "1      7.672969                 588.20  65.756200  \n",
       "2      8.091445                 582.46  66.888490  \n",
       "3      9.342572                 580.19  69.445846  \n",
       "4      8.057778                 568.91  67.717058  "
      ]
     },
     "execution_count": 3,
     "metadata": {},
     "output_type": "execute_result"
    }
   ],
   "source": [
    "#Membersihkan data dengan menghapus record yang terdapat missing value\n",
    "print (\"Shape of dataset before cleaning: \", dataset.shape)\n",
    "dataset = dataset.dropna()\n",
    "print (\"Shape of dataset after cleaning: \", dataset.shape)\n",
    "dataset.head(5)"
   ]
  },
  {
   "cell_type": "markdown",
   "metadata": {},
   "source": [
    "### FEATURE SELECTION"
   ]
  },
  {
   "cell_type": "code",
   "execution_count": 4,
   "metadata": {},
   "outputs": [
    {
     "name": "stdout",
     "output_type": "stream",
     "text": [
      "Rata-rata IPM:\n",
      " nama_provinsi\n",
      "Prov. Bali                         71.394288\n",
      "Prov. Banten                       70.839972\n",
      "Prov. Bengkulu                     69.712691\n",
      "Prov. D I Yogyakarta               74.515497\n",
      "Prov. DKI Jakarta                  76.556860\n",
      "Prov. Gorontalo                    69.157070\n",
      "Prov. Jambi                        72.235563\n",
      "Prov. Jawa Barat                   71.658552\n",
      "Prov. Jawa Tengah                  71.457085\n",
      "Prov. Jawa Timur                   69.494746\n",
      "Prov. Kalimantan Barat             67.199175\n",
      "Prov. Kalimantan Selatan           69.576503\n",
      "Prov. Kalimantan Tengah            72.740934\n",
      "Prov. Kalimantan Timur             73.598787\n",
      "Prov. Kepulauan Bangka Belitung    70.675152\n",
      "Prov. Kepulauan Riau               72.515945\n",
      "Prov. Lampung                      70.352195\n",
      "Prov. Maluku                       69.987349\n",
      "Prov. Maluku Utara                 68.116775\n",
      "Prov. Nanggroe Aceh Darussalam     70.711394\n",
      "Prov. Nusa Tenggara Barat          64.089688\n",
      "Prov. Nusa Tenggara Timur          65.241750\n",
      "Prov. Papua                        58.891675\n",
      "Prov. Papua Barat                  66.272960\n",
      "Prov. Riau                         73.620722\n",
      "Prov. Sulawesi Barat               68.220363\n",
      "Prov. Sulawesi Selatan             70.660213\n",
      "Prov. Sulawesi Tengah              68.999099\n",
      "Prov. Sulawesi Tenggara            68.650826\n",
      "Prov. Sulawesi Utara               74.017236\n",
      "Prov. Sumatera Barat               72.008713\n",
      "Prov. Sumatera Selatan             70.182083\n",
      "Prov. Sumatera Utara               72.581676\n",
      "Name: ipm, dtype: float64\n"
     ]
    }
   ],
   "source": [
    "# Memilih fitur yang akan digunakan, dalam kasus ini fitur yang dibutuhkan hanya 1 fitur\n",
    "# yaitu fitur ipm. kemudian fitur ipm digrup kedalam nama_provinsi \n",
    "# Fitur tersebut kemudian dimasukkan ke dalam variabel avg_ipm dimana isinya merupakan rata-rata\n",
    "# indeks pembangunan manusia berdasarkan nama provinsi\n",
    "\n",
    "avg_ipm = dataset.groupby('nama_provinsi')['ipm'].mean()\n",
    "print('Rata-rata IPM:\\n', avg_ipm)"
   ]
  },
  {
   "cell_type": "markdown",
   "metadata": {},
   "source": [
    "### CLUSTERING USING K-MEANS"
   ]
  },
  {
   "cell_type": "code",
   "execution_count": 41,
   "metadata": {},
   "outputs": [
    {
     "name": "stdout",
     "output_type": "stream",
     "text": [
      "\n",
      "Hasil clustering:\n",
      " [1 1 1 2 2 1 2 2 1 1 1 1 2 2 1 2 1 1 1 1 0 0 0 0 2 1 1 1 1 2 2 1 2]\n",
      "\n",
      "SSE = :  75.72308987762672\n"
     ]
    }
   ],
   "source": [
    "# Selanjutnya kita akan melakukan clustering dengan menggunakan Kmeans\n",
    "# Import Kmeans dari library Sklearn\n",
    "from sklearn.cluster import KMeans\n",
    "\n",
    "\n",
    "# Kita akan membagi data menjadi 3 cluster yaitu ipm dengan pendapatan rendah, sedang dan tinggi\n",
    "# Sehingga n_clusters=3, initial centroidnya random, dan banyak n_initialnya = 1.\n",
    "clustering = KMeans(n_clusters=3, init=\"random\", n_init=1)\n",
    "\n",
    "# Fit Model cluster yang sudah dibuat pada data rata-rata ipm per provinsi\n",
    "clusters=clustering.fit_predict(avg_ipm.values.reshape(-1, 1))\n",
    "\n",
    "# Hasil Clustering\n",
    "print('\\nHasil clustering:\\n', clusters)\n",
    "\n",
    "#Nilai SSE pada n_cluster = 3\n",
    "print('\\nSSE = : ', clustering.inertia_)\n"
   ]
  },
  {
   "cell_type": "markdown",
   "metadata": {},
   "source": [
    "### EVALUATION MODEL USING ELBOW METHOD"
   ]
  },
  {
   "cell_type": "code",
   "execution_count": 42,
   "metadata": {},
   "outputs": [
    {
     "data": {
      "text/plain": [
       "[356.59987007287384,\n",
       " 157.29218623814165,\n",
       " 75.15996113707094,\n",
       " 54.96528558595193,\n",
       " 39.257514913138415,\n",
       " 16.584378357911667,\n",
       " 12.22089314839168,\n",
       " 11.587099479422642,\n",
       " 5.389089119309445]"
      ]
     },
     "execution_count": 42,
     "metadata": {},
     "output_type": "execute_result"
    }
   ],
   "source": [
    "# Pada bagian ini akan dilakukan evaluasi dengan menghitung nilai SSE dari n_cluster\n",
    "K = range(1,10)\n",
    "sse = []\n",
    "for k in K:\n",
    "    km = KMeans(n_clusters = k, init=\"random\", n_init=1)\n",
    "    km.fit(avg_ipm.values.reshape(-1, 1))\n",
    "    sse.append(km.inertia_)\n",
    "\n",
    "sse"
   ]
  },
  {
   "cell_type": "code",
   "execution_count": 43,
   "metadata": {},
   "outputs": [
    {
     "data": {
      "text/plain": [
       "[<matplotlib.lines.Line2D at 0x1b2b0d3dd30>]"
      ]
     },
     "execution_count": 43,
     "metadata": {},
     "output_type": "execute_result"
    },
    {
     "data": {
      "image/png": "[encoded data removed]",
      "text/plain": [
       "<Figure size 432x288 with 1 Axes>"
      ]
     },
     "metadata": {
      "needs_background": "light"
     },
     "output_type": "display_data"
    }
   ],
   "source": [
    "# Untuk lebih mudah memahami nilai SSE pada n_cluster\n",
    "# maka akan dilakukan visualiasi menggunakan Matplotlib\n",
    "from matplotlib import pyplot as plt\n",
    "\n",
    "plt.title('Elbow Method Using Inertia')\n",
    "plt.xlabel('Number of Cluster')\n",
    "plt.ylabel('Sum of Squared Error')\n",
    "plt.plot(K,sse)"
   ]
  },
  {
   "cell_type": "markdown",
   "metadata": {},
   "source": [
    "### CLUSTERING USING AGGLOMERATIVE"
   ]
  },
  {
   "cell_type": "code",
   "execution_count": 44,
   "metadata": {},
   "outputs": [
    {
     "name": "stdout",
     "output_type": "stream",
     "text": [
      "                           Provinsi Category\n",
      "0                        Prov. Bali   sedang\n",
      "1                      Prov. Banten   sedang\n",
      "2                    Prov. Bengkulu   sedang\n",
      "3              Prov. D I Yogyakarta   sedang\n",
      "4                 Prov. DKI Jakarta   tinggi\n",
      "5                   Prov. Gorontalo   sedang\n",
      "6                       Prov. Jambi   sedang\n",
      "7                  Prov. Jawa Barat   sedang\n",
      "8                 Prov. Jawa Tengah   sedang\n",
      "9                  Prov. Jawa Timur   sedang\n",
      "10           Prov. Kalimantan Barat   sedang\n",
      "11         Prov. Kalimantan Selatan   sedang\n",
      "12          Prov. Kalimantan Tengah   sedang\n",
      "13           Prov. Kalimantan Timur   sedang\n",
      "14  Prov. Kepulauan Bangka Belitung   sedang\n",
      "15             Prov. Kepulauan Riau   sedang\n",
      "16                    Prov. Lampung   sedang\n",
      "17                     Prov. Maluku   sedang\n",
      "18               Prov. Maluku Utara   sedang\n",
      "19   Prov. Nanggroe Aceh Darussalam   sedang\n",
      "20        Prov. Nusa Tenggara Barat   sedang\n",
      "21        Prov. Nusa Tenggara Timur   sedang\n",
      "22                      Prov. Papua   rendah\n",
      "23                Prov. Papua Barat   sedang\n",
      "24                       Prov. Riau   sedang\n",
      "25             Prov. Sulawesi Barat   sedang\n",
      "26           Prov. Sulawesi Selatan   sedang\n",
      "27            Prov. Sulawesi Tengah   sedang\n",
      "28          Prov. Sulawesi Tenggara   sedang\n",
      "29             Prov. Sulawesi Utara   sedang\n",
      "30             Prov. Sumatera Barat   sedang\n",
      "31           Prov. Sumatera Selatan   sedang\n",
      "32             Prov. Sumatera Utara   sedang\n"
     ]
    }
   ],
   "source": [
    "# Pada tahap ini kita akan memberikan sebuah label terhadap hasil cluster yang sudah didapat\n",
    "\n",
    "# Import fungsi Agglomerative Clustering dari library sklearn\n",
    "from sklearn.cluster import AgglomerativeClustering\n",
    "\n",
    "# Memodelkan fungsi Agglomerative Clustering\n",
    "clustering=AgglomerativeClustering(n_clusters=3, linkage='average')\n",
    "\n",
    "# Menerapkan fungsi Agglomerative Clustering tehadap rata-rata ipm\n",
    "clusters=clustering.fit_predict(avg_ipm.values.reshape(-1, 1))\n",
    "avg_ipm=pd.DataFrame({'Provinsi':avg_ipm.index, 'Rata-Rata IPM':avg_ipm.values, 'Cluster':clusters})\n",
    "\n",
    "# Mencari nilai centroid dari tiap klaster\n",
    "centroid_perdata=avg_ipm.groupby('Cluster')['Rata-Rata IPM'].transform('mean')\n",
    "centroid=np.unique(centroid_perdata)\n",
    "\n",
    "# Mengurutkan nilai centroid tiap klaster dari yang terendah sampai tertinggi\n",
    "sorted_centroid=np.sort(centroid)\n",
    "\n",
    "# Mengelompokkan nilai centroid ke dalam beberapa kategori, yaitu rendah, sedang dan tinggi\n",
    "rendah, sedang, tinggi = sorted_centroid[0], sorted_centroid[1], sorted_centroid[2]\n",
    "category=centroid_perdata.map({rendah:'rendah', sedang:'sedang', tinggi:'tinggi'})\n",
    "avg_ipm['Category']=category\n",
    "\n",
    "# Menampilkan hasil pengelompokkan tiap centroid ke dalam kategori rendah, sedang, dan tinggi\n",
    "print(avg_ipm[['Provinsi', 'Category']])"
   ]
  },
  {
   "cell_type": "markdown",
   "metadata": {},
   "source": [
    "### VISUALISASI CLUSTERING"
   ]
  },
  {
   "cell_type": "code",
   "execution_count": 45,
   "metadata": {},
   "outputs": [
    {
     "data": {
      "image/png": "[encoded data removed]",
      "text/plain": [
       "<Figure size 432x288 with 1 Axes>"
      ]
     },
     "metadata": {
      "needs_background": "light"
     },
     "output_type": "display_data"
    }
   ],
   "source": [
    "# Pada tahap ini kita akan memvisualisasikan hasil clustering ke dalam scatter plot\n",
    "\n",
    "x=avg_ipm.index\n",
    "y=avg_ipm['Rata-Rata IPM']\n",
    "colors={'rendah':'red', 'sedang':'blue', 'tinggi':'green'}\n",
    "fig, ax = plt.subplots()\n",
    "ax.scatter(x, y, c=avg_ipm['Category'].apply(lambda x:colors[x]))\n",
    "\n",
    "plt.xlabel('Provinsi')\n",
    "plt.ylabel('Rata-Rata IPM')\n",
    "plt.xticks(x, avg_ipm['Provinsi'], rotation=90)\n",
    "plt.show()"
   ]
  },
  {
   "cell_type": "code",
   "execution_count": null,
   "metadata": {},
   "outputs": [],
   "source": []
  },
  {
   "cell_type": "code",
   "execution_count": null,
   "metadata": {},
   "outputs": [],
   "source": []
  }
 ],
 "metadata": {
  "kernelspec": {
   "display_name": "Python 3",
   "language": "python",
   "name": "python3"
  },
  "language_info": {
   "codemirror_mode": {
    "name": "ipython",
    "version": 3
   },
   "file_extension": ".py",
   "mimetype": "text/x-python",
   "name": "python",
   "nbconvert_exporter": "python",
   "pygments_lexer": "ipython3",
   "version": "3.8.3"
  }
 },
 "nbformat": 4,
 "nbformat_minor": 4
}
